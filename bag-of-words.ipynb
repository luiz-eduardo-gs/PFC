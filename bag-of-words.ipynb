{
 "cells": [
  {
   "cell_type": "code",
   "execution_count": 4,
   "id": "719093e7-3731-4138-89a9-acafeb54e990",
   "metadata": {},
   "outputs": [],
   "source": [
    "import numpy as np\n",
    "from sklearn.feature_extraction.text import CountVectorizer"
   ]
  },
  {
   "cell_type": "code",
   "execution_count": 2,
   "id": "cd0954a5-0780-4577-8379-139d91ee20e5",
   "metadata": {},
   "outputs": [],
   "source": [
    "vectorizer = CountVectorizer()"
   ]
  },
  {
   "cell_type": "code",
   "execution_count": 29,
   "id": "2bf9353e-7fc8-4a26-baaa-e509804f1c09",
   "metadata": {
    "tags": []
   },
   "outputs": [],
   "source": [
    "docs = np.array(['Mirabai has won a silver medal in weight lifting in Tokyo olympics 2021',\n",
    "                 'Sindhu has won a bronze medal in badminton in Tokyo olympics',\n",
    "                 'Indian hockey team is in top four team in Tokyo olympics 2021 after 40 years'])"
   ]
  },
  {
   "cell_type": "code",
   "execution_count": 30,
   "id": "a4dafef1-ac34-4ff7-a90d-66980242b34f",
   "metadata": {},
   "outputs": [],
   "source": [
    "# Fit the bag-of-words model\n",
    "\n",
    "bag = vectorizer.fit_transform(docs)"
   ]
  },
  {
   "cell_type": "code",
   "execution_count": 31,
   "id": "27926cd6-90bc-4165-97d3-3a34e6ac5f0e",
   "metadata": {
    "tags": []
   },
   "outputs": [
    {
     "name": "stdout",
     "output_type": "stream",
     "text": [
      "['2021' '40' 'after' 'badminton' 'bronze' 'four' 'has' 'hockey' 'in'\n",
      " 'indian' 'is' 'lifting' 'medal' 'mirabai' 'olympics' 'silver' 'sindhu'\n",
      " 'team' 'tokyo' 'top' 'weight' 'won' 'years']\n"
     ]
    }
   ],
   "source": [
    "#\n",
    "# Get unique words / tokens found in all the documents. The unique words / tokens represents\n",
    "# the features\n",
    "#\n",
    "print(vectorizer.get_feature_names_out())"
   ]
  },
  {
   "cell_type": "code",
   "execution_count": 32,
   "id": "9b0a1623-f768-48d1-90ce-72d53cc2aa49",
   "metadata": {
    "tags": []
   },
   "outputs": [
    {
     "name": "stdout",
     "output_type": "stream",
     "text": [
      "{'mirabai': 13, 'has': 6, 'won': 21, 'silver': 15, 'medal': 12, 'in': 8, 'weight': 20, 'lifting': 11, 'tokyo': 18, 'olympics': 14, '2021': 0, 'sindhu': 16, 'bronze': 4, 'badminton': 3, 'indian': 9, 'hockey': 7, 'team': 17, 'is': 10, 'top': 19, 'four': 5, 'after': 2, '40': 1, 'years': 22}\n"
     ]
    }
   ],
   "source": [
    "#\n",
    "# Associate the indices with each unique word\n",
    "#\n",
    "print(vectorizer.vocabulary_)"
   ]
  },
  {
   "cell_type": "code",
   "execution_count": 33,
   "id": "5fccad4d-7b8e-4cf7-9669-f2bebf5c71ec",
   "metadata": {
    "tags": []
   },
   "outputs": [
    {
     "name": "stdout",
     "output_type": "stream",
     "text": [
      "[[1 0 0 0 0 0 1 0 2 0 0 1 1 1 1 1 0 0 1 0 1 1 0]\n",
      " [0 0 0 1 1 0 1 0 2 0 0 0 1 0 1 0 1 0 1 0 0 1 0]\n",
      " [1 1 1 0 0 1 0 1 2 1 1 0 0 0 1 0 0 2 1 1 0 0 1]]\n"
     ]
    }
   ],
   "source": [
    "#\n",
    "# Print the numerical feature vector\n",
    "#\n",
    "print(bag.toarray())"
   ]
  },
  {
   "cell_type": "code",
   "execution_count": 56,
   "id": "e0ba05ab-fce0-46f6-aaf1-3e0a315ec306",
   "metadata": {},
   "outputs": [],
   "source": [
    "#\n",
    "# Creating training data set from bag-of-words  and dummy label\n",
    "#\n",
    "X = bag.toarray()\n",
    "y = np.array([1, 1, 0])"
   ]
  },
  {
   "cell_type": "code",
   "execution_count": 35,
   "id": "821a2216-8982-4ffd-87cc-7d7955c54804",
   "metadata": {},
   "outputs": [],
   "source": [
    "from sklearn.model_selection import train_test_split\n",
    "from sklearn.linear_model import LogisticRegression\n",
    "from sklearn import metrics"
   ]
  },
  {
   "cell_type": "code",
   "execution_count": 57,
   "id": "8ccb396f-b473-4372-98c9-b4f8d5d3ca86",
   "metadata": {},
   "outputs": [],
   "source": [
    "#\n",
    "# Create training and test split\n",
    "#\n",
    "X_train, X_test, y_train, y_test = train_test_split(X, y)"
   ]
  },
  {
   "cell_type": "code",
   "execution_count": 47,
   "id": "09e89b55-29ac-44a5-906e-4720dc05434c",
   "metadata": {},
   "outputs": [
    {
     "name": "stdout",
     "output_type": "stream",
     "text": [
      "[0]\n"
     ]
    }
   ],
   "source": [
    "print(y_test)"
   ]
  },
  {
   "cell_type": "code",
   "execution_count": 54,
   "id": "3698a753-e57a-4d04-ae71-711ed02365ec",
   "metadata": {},
   "outputs": [],
   "source": [
    "#\n",
    "# Create an instance of LogisticRegression classifier\n",
    "#\n",
    "lr = LogisticRegression(C=100.0, random_state=1, solver='lbfgs', multi_class='ovr')"
   ]
  },
  {
   "cell_type": "code",
   "execution_count": 58,
   "id": "1058dea1-5a03-4f5e-8396-05065f3a0459",
   "metadata": {},
   "outputs": [
    {
     "data": {
      "text/plain": [
       "LogisticRegression(C=100.0, multi_class='ovr', random_state=1)"
      ]
     },
     "execution_count": 58,
     "metadata": {},
     "output_type": "execute_result"
    }
   ],
   "source": [
    "#\n",
    "# Fit the model\n",
    "#\n",
    "lr.fit(X_train, y_train)"
   ]
  },
  {
   "cell_type": "code",
   "execution_count": 42,
   "id": "23ce6013-84da-4c12-8ebf-4a4d60a6a3fd",
   "metadata": {},
   "outputs": [],
   "source": [
    "#\n",
    "# Create the predictions\n",
    "#\n",
    "y_predict = lr.predict(X_test)"
   ]
  },
  {
   "cell_type": "code",
   "execution_count": 43,
   "id": "901377f1-f41b-4228-9ece-635050a73a11",
   "metadata": {},
   "outputs": [
    {
     "name": "stdout",
     "output_type": "stream",
     "text": [
      "LogisticRegression Accuracy 1.000\n"
     ]
    }
   ],
   "source": [
    "# Use metrics.accuracy_score to measure the score\n",
    "print(\"LogisticRegression Accuracy %.3f\" %metrics.accuracy_score(y_test, y_predict))"
   ]
  }
 ],
 "metadata": {
  "kernelspec": {
   "display_name": "Python 3 (ipykernel)",
   "language": "python",
   "name": "python3"
  },
  "language_info": {
   "codemirror_mode": {
    "name": "ipython",
    "version": 3
   },
   "file_extension": ".py",
   "mimetype": "text/x-python",
   "name": "python",
   "nbconvert_exporter": "python",
   "pygments_lexer": "ipython3",
   "version": "3.8.10"
  }
 },
 "nbformat": 4,
 "nbformat_minor": 5
}
